{
 "cells": [
  {
   "cell_type": "markdown",
   "metadata": {},
   "source": [
    "# Reaction-diffusion\n",
    "A simulation of reaction diffusion in Julia. Uses finite difference for calculating spatial derivatives and Euler for time integration. \n",
    "Periodic boundary conditions are enforced.\n",
    "\n",
    "Results are rendered live using GLMakie package.\n",
    "\n",
    "Ref: *Biological Pattern Formation : from Basic Mechanisms to Complex\n",
    "Structures*, A. J. Koch and H. Meinhardt (1994) "
   ]
  },
  {
   "cell_type": "code",
   "execution_count": 1,
   "metadata": {},
   "outputs": [
    {
     "name": "stderr",
     "output_type": "stream",
     "text": [
      "\u001b[32m\u001b[1m  Activating\u001b[22m\u001b[39m project at `~/CELESTE/PROJECTS/ReactionDiffusion`\n"
     ]
    }
   ],
   "source": [
    "using Pkg\n",
    "Pkg.activate(\".\")\n",
    "using GLMakie"
   ]
  },
  {
   "cell_type": "markdown",
   "metadata": {},
   "source": [
    "WrapMatrix construct: has periodic boundaries; Wraps around."
   ]
  },
  {
   "cell_type": "code",
   "execution_count": 4,
   "metadata": {},
   "outputs": [],
   "source": [
    "struct WrapMatrix\n",
    "    X::Matrix{Float64}\n",
    "end\n",
    "Base.size(x::WrapMatrix) = size(x.X)\n",
    "Base.display(A::WrapMatrix) = Base.display(A.X)\n",
    "Base.setindex!(X::WrapMatrix, x::Float64, i::Int64, j::Int64) = setindex!(X.X, x, i, j)\n",
    "function Base.getindex(x::WrapMatrix, i::Int, j::Int)\n",
    "    n,m=size(x)\n",
    "    if (i > n)\n",
    "        i = i % n\n",
    "    elseif (i < 1)\n",
    "        i = n + i % n\n",
    "    end \n",
    "    if (j > m)\n",
    "        j = j % m  \n",
    "    elseif (j < 1)\n",
    "        j = m + j % m\n",
    "    end \n",
    "    x.X[i,j]\n",
    "end"
   ]
  },
  {
   "cell_type": "markdown",
   "metadata": {},
   "source": [
    "Calculates laplacian of a matrix"
   ]
  },
  {
   "cell_type": "code",
   "execution_count": 5,
   "metadata": {},
   "outputs": [
    {
     "data": {
      "text/plain": [
       "Δ (generic function with 1 method)"
      ]
     },
     "metadata": {},
     "output_type": "display_data"
    }
   ],
   "source": [
    "function Δ(X) \n",
    "    Δx² = 1. \n",
    "    m, n = size(X)\n",
    "    X′ = WrapMatrix(X)\n",
    "    ∇²X = zeros(m, n)\n",
    "    for i in 1:m\n",
    "        for j in 1:n\n",
    "            ∇²X[i, j] += X′[i+1, j  ]\n",
    "            ∇²X[i, j] += X′[i  , j+1] \n",
    "            ∇²X[i, j] += X′[i-1, j  ] \n",
    "            ∇²X[i, j] += X′[i  , j-1] \n",
    "\n",
    "            ∇²X[i, j] -= 4*X′[i, j] \n",
    "            ∇²X[i, j] /= Δx²\n",
    "        end\n",
    "    end\n",
    "    return ∇²X\n",
    "end"
   ]
  },
  {
   "cell_type": "markdown",
   "metadata": {},
   "source": [
    "A reaction diffusion model with two reacting species"
   ]
  },
  {
   "cell_type": "markdown",
   "metadata": {},
   "source": [
    "$$\\frac{\\partial a}{\\partial t} = D_a\\nabla^2a+\\rho_a\\frac{a^2s}{1+\\kappa_a a^2}-\\mu_a+\\sigma_a\\\\\n",
    "\\frac{\\partial s}{\\partial t} = D_s\\nabla^2s-\\rho_s\\frac{a^2s}{1+\\kappa_a a^2}+\\sigma_s\n",
    "$$"
   ]
  },
  {
   "cell_type": "code",
   "execution_count": 7,
   "metadata": {},
   "outputs": [
    {
     "data": {
      "text/plain": [
       "model1 (generic function with 1 method)"
      ]
     },
     "metadata": {},
     "output_type": "display_data"
    }
   ],
   "source": [
    "function model1(a, b)\n",
    "    Da = 0.005; Db = 0.2\n",
    "    ρa = 0.01; ρb = 0.02\n",
    "    μa = 0.01; μb = 0.02\n",
    "    Ka = 0.25\n",
    "    σa = 0.0; σb = 0.0\n",
    "\n",
    "    ∇²a = Δ(a)\n",
    "    ∇²b = Δ(b)\n",
    "\n",
    "    ȧ = Da * ∇²a + \n",
    "        ρa * (a.^ 2 ./ (1 .+ Ka * a.^2)) ./ b - \n",
    "        μa*a .+ \n",
    "        σa\n",
    "    \n",
    "    ḃ = Db * ∇²b + \n",
    "        ρb * a.^2 -\n",
    "        μb * b .+\n",
    "        σb \n",
    "\n",
    "    return ȧ, ḃ\n",
    "end"
   ]
  },
  {
   "cell_type": "markdown",
   "metadata": {},
   "source": [
    "Time stepping using Euler"
   ]
  },
  {
   "cell_type": "code",
   "execution_count": 8,
   "metadata": {},
   "outputs": [
    {
     "data": {
      "text/plain": [
       "update (generic function with 1 method)"
      ]
     },
     "metadata": {},
     "output_type": "display_data"
    }
   ],
   "source": [
    "function update(a, b, model)\n",
    "    Δt = 1.\n",
    "    ȧ, ḃ = model(a, b)\n",
    "\n",
    "    a .+= ȧ*Δt\n",
    "    b .+= ḃ*Δt\n",
    "end"
   ]
  },
  {
   "cell_type": "markdown",
   "metadata": {},
   "source": [
    "Generate plot in GLMakie"
   ]
  },
  {
   "cell_type": "code",
   "execution_count": 9,
   "metadata": {},
   "outputs": [
    {
     "data": {
      "text/plain": [
       "plotTrajectory (generic function with 1 method)"
      ]
     },
     "metadata": {},
     "output_type": "display_data"
    }
   ],
   "source": [
    "function plotTrajectory(a, b, model, scene; iter=100, skipframes=1)\n",
    "\theatmap!(scene, a, colormap=:plasma)\n",
    "\tbegin\n",
    "\t\tfor i = 1:iter\n",
    "\t\t\tupdate(a, b, model)\n",
    "\t\t\tscene[end][3][] = a\n",
    "\t\t\tsleep(1/1200)\t\t\n",
    "\t\tend\n",
    "\tend\n",
    "end"
   ]
  },
  {
   "cell_type": "markdown",
   "metadata": {},
   "source": [
    "Initial conditions"
   ]
  },
  {
   "cell_type": "code",
   "execution_count": 10,
   "metadata": {},
   "outputs": [],
   "source": [
    "gridx, gridy = 70, 70\n",
    "\n",
    "Ai = rand(gridy, gridx);\n",
    "Bi = rand(gridy, gridx);"
   ]
  },
  {
   "cell_type": "code",
   "execution_count": 11,
   "metadata": {},
   "outputs": [],
   "source": [
    "A = copy(Ai)\n",
    "B = copy(Bi);"
   ]
  },
  {
   "cell_type": "markdown",
   "metadata": {},
   "source": [
    "Create and display a scene"
   ]
  },
  {
   "cell_type": "code",
   "execution_count": 12,
   "metadata": {},
   "outputs": [],
   "source": [
    "scene = Scene()\n",
    "heatmap!(scene, A, colormap=:plasma, show_axis=false)\n",
    "scene"
   ]
  },
  {
   "cell_type": "markdown",
   "metadata": {},
   "source": [
    "Live render each time step"
   ]
  },
  {
   "cell_type": "code",
   "execution_count": 13,
   "metadata": {},
   "outputs": [],
   "source": [
    "plotTrajectory(A, B, model1, scene; iter=2000, skipframes=1)"
   ]
  }
 ],
 "metadata": {
  "kernelspec": {
   "display_name": "Julia 1.7.3",
   "language": "julia",
   "name": "julia-1.7"
  },
  "language_info": {
   "file_extension": ".jl",
   "mimetype": "application/julia",
   "name": "julia",
   "version": "1.7.3"
  },
  "orig_nbformat": 4,
  "vscode": {
   "interpreter": {
    "hash": "916dbcbb3f70747c44a77c7bcd40155683ae19c65e1c03b4aa3499c5328201f1"
   }
  }
 },
 "nbformat": 4,
 "nbformat_minor": 2
}
